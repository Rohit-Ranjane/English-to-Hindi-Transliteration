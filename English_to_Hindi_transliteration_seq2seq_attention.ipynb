{
 "cells": [
  {
   "cell_type": "code",
   "execution_count": 6,
   "id": "d63fcf0f-f89f-4a2f-9d4c-df980e866db7",
   "metadata": {},
   "outputs": [],
   "source": [
    "import os\n",
    "import string\n",
    "import numpy as np\n",
    "import pandas as pd\n",
    "from string import digits\n",
    "import re\n",
    "import tensorflow as tf\n",
    "import matplotlib.ticker as ticker\n",
    "from sklearn.model_selection import train_test_split\n",
    "import unicodedata\n",
    "import io\n",
    "import time\n",
    "import warnings\n",
    "import sys\n",
    "import xml.etree.ElementTree as ET\n",
    "\n",
    "filename = \"NEWS2018_M-EnHi_trn.xml\""
   ]
  },
  {
   "cell_type": "code",
   "execution_count": 7,
   "id": "1060f4c9-c2e4-4172-976a-eb8b479c865c",
   "metadata": {},
   "outputs": [],
   "source": [
    "hindi_alphabets = [chr(alpha) for alpha in range(2304, 2432)]\n",
    "hindi_alphabet_size = len(hindi_alphabets)\n",
    "\n",
    "hindi_alpha2index = {'': 0,'' : 1}\n",
    "for index, alpha in enumerate(hindi_alphabets):\n",
    "    hindi_alpha2index[alpha] = index+1\n"
   ]
  },
  {
   "cell_type": "code",
   "execution_count": 8,
   "id": "a04cfe83-4f54-46be-859a-b20ef371a0e2",
   "metadata": {},
   "outputs": [],
   "source": [
    "def unicode_to_ascii(s):\n",
    "    return ''.join(c for c in unicodedata.normalize('NFD', s)\n",
    "        if unicodedata.category(c) != 'Mn')\n",
    "\n",
    "def preprocess_sentence(w):\n",
    "    w = unicode_to_ascii(w.lower().strip())\n",
    "    w = re.sub(r\"([?.!,¿])\", r\" \\1 \", w)\n",
    "    w = re.sub(r'[\" \"]+', \" \", w)\n",
    "    w = re.sub(r\"[^a-zA-Z?.!,¿]+\", \" \", w)\n",
    "    w = w.rstrip().strip()\n",
    "    return w\n",
    "\n",
    "def hindi_preprocess_sentence(w):\n",
    "    \n",
    "    w = unicode_to_ascii(w.strip())\n",
    "    w = w.replace('-', ' ').replace(',', ' ')\n",
    "    cleaned_line = ''\n",
    "    for char in w:\n",
    "        if char in hindi_alpha2index or char == ' ':\n",
    "            cleaned_line += char\n",
    "\n",
    "    cleaned_line = cleaned_line.rstrip().strip()\n",
    "    \n",
    "    cleaned_line = cleaned_line.split()\n",
    "    \n",
    "    return cleaned_line"
   ]
  },
  {
   "cell_type": "code",
   "execution_count": 15,
   "id": "53c7c279-c723-420a-a8cf-a833385d78b7",
   "metadata": {},
   "outputs": [],
   "source": [
    "def create_dataset(filename):\n",
    "    transliterationCorpus = ET.parse(filename).getroot()\n",
    "    en = []\n",
    "    hd = []\n",
    "    for line in transliterationCorpus:\n",
    "        wordlist1 = line[0].text \n",
    "        wordlist2 = line[1].text \n",
    "        if len(wordlist1) != len(wordlist2):\n",
    "            continue\n",
    "\n",
    "        en_1 = preprocess_sentence(wordlist1)\n",
    "        en_1 = '@' + en_1 + '#'\n",
    "        en.append(en_1)\n",
    "            \n",
    "        # for word in wordlist2:\n",
    "        hd_1 = hindi_preprocess_sentence(wordlist2)[0]\n",
    "        hd_1 = '@' + hd_1 + '#'\n",
    "        hd.append(hd_1)\n",
    "            \n",
    "    # print(hd)\n",
    "    return hd, en"
   ]
  },
  {
   "cell_type": "code",
   "execution_count": 16,
   "id": "89319a2c-6785-4321-bf41-09386b9fbbf5",
   "metadata": {},
   "outputs": [],
   "source": [
    "def max_length(tensor):\n",
    "    return max(len(t) for t in tensor)"
   ]
  },
  {
   "cell_type": "code",
   "execution_count": 17,
   "id": "39c55cfb-90d7-4d63-964b-fbc7689fa1d4",
   "metadata": {},
   "outputs": [],
   "source": [
    "class WordIndex():\n",
    "  def __init__(self, lang):\n",
    "    self.lang = lang\n",
    "    self.word2idx = {}\n",
    "    self.idx2word = {}\n",
    "    self.vocab = set()\n",
    "    \n",
    "    self.create_index()\n",
    "    \n",
    "  def create_index(self):\n",
    "    for phrase in self.lang:\n",
    "      for l in phrase:\n",
    "        self.vocab.update(l)\n",
    "    \n",
    "    self.vocab = sorted(self.vocab)\n",
    "    \n",
    "    self.word2idx[''] = 0\n",
    "    for index, word in enumerate(self.vocab):\n",
    "      self.word2idx[word] = index + 1\n",
    "    \n",
    "    for word, index in self.word2idx.items():\n",
    "      self.idx2word[index] = word"
   ]
  },
  {
   "cell_type": "code",
   "execution_count": 18,
   "id": "eecc3d70-238a-484b-a831-203ccf2a1897",
   "metadata": {},
   "outputs": [],
   "source": [
    "def load_dataset(filename):\n",
    "    \n",
    "    targ_lang, inp_lang = create_dataset(filename)\n",
    "    \n",
    "    inp_lang_1 = WordIndex(inp_lang)\n",
    "    targ_lang_1 = WordIndex(targ_lang)\n",
    "    \n",
    "    input_tensor = [[inp_lang_1.word2idx[s] for s in en] for en in inp_lang]\n",
    "    \n",
    "    target_tensor = [[targ_lang_1.word2idx[s] for s in hn] for hn in targ_lang]\n",
    "    \n",
    "    max_length_inp, max_length_tar = max_length(input_tensor), max_length(target_tensor)\n",
    "    \n",
    "    input_tensor = tf.keras.preprocessing.sequence.pad_sequences(input_tensor, maxlen=max_length_inp, padding='post')\n",
    "    \n",
    "    target_tensor = tf.keras.preprocessing.sequence.pad_sequences(target_tensor, maxlen=max_length_tar,  padding='post')\n",
    "\n",
    "    return input_tensor, target_tensor, inp_lang_1, targ_lang_1"
   ]
  },
  {
   "cell_type": "code",
   "execution_count": 19,
   "id": "d4524309-66f6-4aa4-bceb-ad236d229c95",
   "metadata": {},
   "outputs": [],
   "source": [
    "input_tensor, target_tensor, inp_lang, targ_lang = load_dataset(filename)\n",
    "max_length_targ, max_length_inp = max_length(target_tensor), max_length(input_tensor)"
   ]
  },
  {
   "cell_type": "code",
   "execution_count": 20,
   "id": "1feda51f-c66f-4f7f-b213-aa0181a1f192",
   "metadata": {},
   "outputs": [
    {
     "name": "stdout",
     "output_type": "stream",
     "text": [
      "2489 2489 623 623\n"
     ]
    }
   ],
   "source": [
    "input_tensor_train, input_tensor_val, target_tensor_train, target_tensor_val = train_test_split(input_tensor, target_tensor, test_size=0.2)\n",
    "print(len(input_tensor_train), len(target_tensor_train), len(input_tensor_val), len(target_tensor_val))"
   ]
  },
  {
   "cell_type": "code",
   "execution_count": 21,
   "id": "4dbc047f-4d95-4974-b802-12e9bd26c2b4",
   "metadata": {},
   "outputs": [
    {
     "name": "stdout",
     "output_type": "stream",
     "text": [
      "Input Language; index to word mapping\n",
      "4 ----> @\n",
      "23 ----> s\n",
      "13 ----> i\n",
      "22 ----> r\n",
      "13 ----> i\n",
      "25 ----> u\n",
      "23 ----> s\n",
      "2 ----> #\n",
      "\n",
      "Target Language; index to word mapping\n",
      "2 ----> @\n",
      "44 ----> स\n",
      "47 ----> ि\n",
      "39 ----> र\n",
      "47 ----> ि\n",
      "38 ----> य\n",
      "44 ----> स\n",
      "1 ----> #\n"
     ]
    }
   ],
   "source": [
    "def convert(lang, tensor):\n",
    "  for t in tensor:\n",
    "    if t!=0:\n",
    "      print (\"%d ----> %s\" % (t, lang.idx2word[t]))\n",
    "    \n",
    "print (\"Input Language; index to word mapping\")\n",
    "convert(inp_lang, input_tensor_train[6])\n",
    "print ()\n",
    "print (\"Target Language; index to word mapping\")\n",
    "convert(targ_lang, target_tensor_train[6])"
   ]
  },
  {
   "cell_type": "code",
   "execution_count": 22,
   "id": "605e7333-f476-48fc-93ad-4fac2986acc1",
   "metadata": {},
   "outputs": [
    {
     "name": "stderr",
     "output_type": "stream",
     "text": [
      "2023-02-01 10:57:33.816962: I tensorflow/core/platform/cpu_feature_guard.cc:151] This TensorFlow binary is optimized with oneAPI Deep Neural Network Library (oneDNN) to use the following CPU instructions in performance-critical operations:  AVX2 FMA\n",
      "To enable them in other operations, rebuild TensorFlow with the appropriate compiler flags.\n",
      "2023-02-01 10:57:34.262019: I tensorflow/core/common_runtime/gpu/gpu_device.cc:1525] Created device /job:localhost/replica:0/task:0/device:GPU:0 with 18068 MB memory:  -> device: 0, name: NVIDIA A100-PCIE-40GB MIG 3g.20gb, pci bus id: 0000:c1:00.0, compute capability: 8.0\n"
     ]
    }
   ],
   "source": [
    "BUFFER_SIZE = len(input_tensor_train)\n",
    "BATCH_SIZE = 64\n",
    "steps_per_epoch = len(input_tensor_train)//BATCH_SIZE\n",
    "embedding_dim = 128\n",
    "units = 256\n",
    "vocab_inp_size = len(inp_lang.word2idx)+1\n",
    "vocab_tar_size = len(targ_lang.word2idx)+1\n",
    "\n",
    "dataset = tf.data.Dataset.from_tensor_slices((input_tensor_train, target_tensor_train)).shuffle(BUFFER_SIZE)\n",
    "dataset = dataset.batch(BATCH_SIZE, drop_remainder=True)"
   ]
  },
  {
   "cell_type": "code",
   "execution_count": 23,
   "id": "9d5a5474-daee-4e82-8f33-0f738e0ca11f",
   "metadata": {},
   "outputs": [],
   "source": [
    "class Encoder(tf.keras.Model):\n",
    "  def __init__(self, vocab_size, embedding_dim, enc_units, batch_sz):\n",
    "    super(Encoder, self).__init__()\n",
    "    self.batch_sz = batch_sz\n",
    "    self.enc_units = enc_units\n",
    "    self.embedding = tf.keras.layers.Embedding(vocab_size, embedding_dim)\n",
    "    self.gru = tf.keras.layers.GRU(self.enc_units,\n",
    "                                   return_sequences=True,\n",
    "                                   return_state=True,\n",
    "                                   recurrent_initializer='glorot_uniform')\n",
    "\n",
    "  def call(self, x, hidden):\n",
    "    x = self.embedding(x)\n",
    "    output, state = self.gru(x, initial_state = hidden)\n",
    "    return output, state\n",
    "\n",
    "  def initialize_hidden_state(self):\n",
    "    return tf.zeros((self.batch_sz, self.enc_units))\n",
    "\n",
    "encoder = Encoder(vocab_inp_size, embedding_dim, units, BATCH_SIZE)"
   ]
  },
  {
   "cell_type": "code",
   "execution_count": 24,
   "id": "0858270f-13da-4582-be58-7bd631b62fed",
   "metadata": {},
   "outputs": [],
   "source": [
    "class BahdanauAttention(tf.keras.layers.Layer):\n",
    "  def __init__(self, units):\n",
    "    super(BahdanauAttention, self).__init__()\n",
    "    self.W1 = tf.keras.layers.Dense(units)\n",
    "    self.W2 = tf.keras.layers.Dense(units)\n",
    "    self.V = tf.keras.layers.Dense(1)\n",
    "\n",
    "  def call(self, query, values):\n",
    "    hidden_with_time_axis = tf.expand_dims(query, 1)\n",
    "    score = self.V(tf.nn.tanh(\n",
    "        self.W1(values) + self.W2(hidden_with_time_axis)))\n",
    "    attention_weights = tf.nn.softmax(score, axis=1)\n",
    "    context_vector = attention_weights * values\n",
    "    context_vector = tf.reduce_sum(context_vector, axis=1)\n",
    "    return context_vector, attention_weights"
   ]
  },
  {
   "cell_type": "code",
   "execution_count": 25,
   "id": "35f38532-ddfa-4d7d-91f7-fb376a85b9aa",
   "metadata": {},
   "outputs": [],
   "source": [
    "class Decoder(tf.keras.Model):\n",
    "  def __init__(self, vocab_size, embedding_dim, dec_units, batch_sz):\n",
    "    super(Decoder, self).__init__()\n",
    "    self.batch_sz = batch_sz\n",
    "    self.dec_units = dec_units\n",
    "    self.embedding = tf.keras.layers.Embedding(vocab_size, embedding_dim)\n",
    "    self.gru = tf.keras.layers.GRU(self.dec_units,\n",
    "                                   return_sequences=True,\n",
    "                                   return_state=True,\n",
    "                                   recurrent_initializer='glorot_uniform')\n",
    "    self.fc = tf.keras.layers.Dense(vocab_size)\n",
    "    self.attention = BahdanauAttention(self.dec_units)\n",
    "\n",
    "  def call(self, x, hidden, enc_output):\n",
    "    context_vector, attention_weights = self.attention(hidden, enc_output)\n",
    "    x = self.embedding(x)\n",
    "    x = tf.concat([tf.expand_dims(context_vector, 1), x], axis=-1)\n",
    "    output, state = self.gru(x)\n",
    "    output = tf.reshape(output, (-1, output.shape[2]))\n",
    "    x = self.fc(output)\n",
    "    return x, state, attention_weights\n",
    "\n",
    "decoder = Decoder(vocab_tar_size, embedding_dim, units, BATCH_SIZE)"
   ]
  },
  {
   "cell_type": "code",
   "execution_count": 26,
   "id": "30502290-0abc-4083-8da4-64dff571ac50",
   "metadata": {},
   "outputs": [],
   "source": [
    "optimizer = tf.keras.optimizers.Adam()\n",
    "loss_object = tf.keras.losses.SparseCategoricalCrossentropy(\n",
    "    from_logits=True, reduction='none')\n",
    "\n",
    "def loss_function(real, pred):\n",
    "  mask = tf.math.logical_not(tf.math.equal(real, 0))\n",
    "  loss_ = loss_object(real, pred)\n",
    "  mask = tf.cast(mask, dtype=loss_.dtype)\n",
    "  loss_ *= mask\n",
    "  return tf.reduce_mean(loss_)"
   ]
  },
  {
   "cell_type": "code",
   "execution_count": 27,
   "id": "e6c10841-8169-432f-82df-1cdd44ec0f22",
   "metadata": {},
   "outputs": [],
   "source": [
    "checkpoint_dir = './training_checkpoints'\n",
    "checkpoint_prefix = os.path.join(checkpoint_dir, \"ckpt\")\n",
    "checkpoint = tf.train.Checkpoint(optimizer=optimizer,\n",
    "                                 encoder=encoder,\n",
    "                                 decoder=decoder)"
   ]
  },
  {
   "cell_type": "code",
   "execution_count": 28,
   "id": "42bf242c-829e-47c1-ae3e-0762abc3ae0e",
   "metadata": {},
   "outputs": [],
   "source": [
    "@tf.function\n",
    "def train_step(inp, targ, enc_hidden):\n",
    "  loss = 0\n",
    "  with tf.GradientTape() as tape:\n",
    "    enc_output, enc_hidden = encoder(inp, enc_hidden)\n",
    "    dec_hidden = enc_hidden\n",
    "    dec_input = tf.expand_dims([targ_lang.word2idx['@']] * BATCH_SIZE, 1)\n",
    "    # Teacher forcing\n",
    "    for t in range(1, targ.shape[1]):\n",
    "      predictions, dec_hidden, _ = decoder(dec_input, dec_hidden, enc_output)\n",
    "      loss += loss_function(targ[:, t], predictions)\n",
    "      dec_input = tf.expand_dims(targ[:, t], 1)\n",
    "\n",
    "  batch_loss = (loss / int(targ.shape[1]))\n",
    "  variables = encoder.trainable_variables + decoder.trainable_variables\n",
    "  gradients = tape.gradient(loss, variables)\n",
    "  optimizer.apply_gradients(zip(gradients, variables))      \n",
    "  return batch_loss"
   ]
  },
  {
   "cell_type": "code",
   "execution_count": 30,
   "id": "0a26dd37-35e0-47ee-99db-6ea2079c2b4f",
   "metadata": {},
   "outputs": [
    {
     "name": "stdout",
     "output_type": "stream",
     "text": [
      "Epoch 1 Batch 0 Loss 0.4296\n",
      "Epoch 1 Loss 0.3750\n",
      "Time taken for 1 epoch 0.9649903774261475 sec\n",
      "\n",
      "Epoch 2 Batch 0 Loss 0.3969\n",
      "Epoch 2 Loss 0.3261\n",
      "Time taken for 1 epoch 1.026418924331665 sec\n",
      "\n",
      "Epoch 3 Batch 0 Loss 0.2872\n",
      "Epoch 3 Loss 0.2866\n",
      "Time taken for 1 epoch 0.9521527290344238 sec\n",
      "\n",
      "Epoch 4 Batch 0 Loss 0.3075\n",
      "Epoch 4 Loss 0.2691\n",
      "Time taken for 1 epoch 0.9899158477783203 sec\n",
      "\n",
      "Epoch 5 Batch 0 Loss 0.2188\n",
      "Epoch 5 Loss 0.2423\n",
      "Time taken for 1 epoch 0.9469757080078125 sec\n",
      "\n",
      "Epoch 6 Batch 0 Loss 0.2305\n",
      "Epoch 6 Loss 0.2329\n",
      "Time taken for 1 epoch 0.9923355579376221 sec\n",
      "\n",
      "Epoch 7 Batch 0 Loss 0.2066\n",
      "Epoch 7 Loss 0.2233\n",
      "Time taken for 1 epoch 0.925208568572998 sec\n",
      "\n",
      "Epoch 8 Batch 0 Loss 0.1739\n",
      "Epoch 8 Loss 0.2110\n",
      "Time taken for 1 epoch 0.9997899532318115 sec\n",
      "\n",
      "Epoch 9 Batch 0 Loss 0.1499\n",
      "Epoch 9 Loss 0.1981\n",
      "Time taken for 1 epoch 0.9528632164001465 sec\n",
      "\n",
      "Epoch 10 Batch 0 Loss 0.1647\n",
      "Epoch 10 Loss 0.1817\n",
      "Time taken for 1 epoch 1.011082410812378 sec\n",
      "\n",
      "Epoch 11 Batch 0 Loss 0.1746\n",
      "Epoch 11 Loss 0.1673\n",
      "Time taken for 1 epoch 0.9509148597717285 sec\n",
      "\n",
      "Epoch 12 Batch 0 Loss 0.1588\n",
      "Epoch 12 Loss 0.1545\n",
      "Time taken for 1 epoch 0.9585728645324707 sec\n",
      "\n",
      "Epoch 13 Batch 0 Loss 0.1524\n",
      "Epoch 13 Loss 0.1480\n",
      "Time taken for 1 epoch 0.9236176013946533 sec\n",
      "\n",
      "Epoch 14 Batch 0 Loss 0.1027\n",
      "Epoch 14 Loss 0.1404\n",
      "Time taken for 1 epoch 0.9877915382385254 sec\n",
      "\n",
      "Epoch 15 Batch 0 Loss 0.1163\n",
      "Epoch 15 Loss 0.1313\n",
      "Time taken for 1 epoch 0.9426360130310059 sec\n",
      "\n",
      "Epoch 16 Batch 0 Loss 0.1389\n",
      "Epoch 16 Loss 0.1241\n",
      "Time taken for 1 epoch 1.0003397464752197 sec\n",
      "\n",
      "Epoch 17 Batch 0 Loss 0.1305\n",
      "Epoch 17 Loss 0.1318\n",
      "Time taken for 1 epoch 0.9512159824371338 sec\n",
      "\n",
      "Epoch 18 Batch 0 Loss 0.1073\n",
      "Epoch 18 Loss 0.1181\n",
      "Time taken for 1 epoch 1.0022106170654297 sec\n",
      "\n",
      "Epoch 19 Batch 0 Loss 0.1161\n",
      "Epoch 19 Loss 0.1196\n",
      "Time taken for 1 epoch 0.9567809104919434 sec\n",
      "\n",
      "Epoch 20 Batch 0 Loss 0.1279\n",
      "Epoch 20 Loss 0.1085\n",
      "Time taken for 1 epoch 0.9772493839263916 sec\n",
      "\n",
      "Epoch 21 Batch 0 Loss 0.0927\n",
      "Epoch 21 Loss 0.0989\n",
      "Time taken for 1 epoch 0.9265251159667969 sec\n",
      "\n",
      "Epoch 22 Batch 0 Loss 0.0772\n",
      "Epoch 22 Loss 0.0950\n",
      "Time taken for 1 epoch 0.9923007488250732 sec\n",
      "\n",
      "Epoch 23 Batch 0 Loss 0.0765\n",
      "Epoch 23 Loss 0.0982\n",
      "Time taken for 1 epoch 0.948413610458374 sec\n",
      "\n",
      "Epoch 24 Batch 0 Loss 0.1002\n",
      "Epoch 24 Loss 0.0882\n",
      "Time taken for 1 epoch 0.9661035537719727 sec\n",
      "\n",
      "Epoch 25 Batch 0 Loss 0.0743\n",
      "Epoch 25 Loss 0.0841\n",
      "Time taken for 1 epoch 0.9211883544921875 sec\n",
      "\n",
      "Epoch 26 Batch 0 Loss 0.0757\n",
      "Epoch 26 Loss 0.0765\n",
      "Time taken for 1 epoch 0.9756669998168945 sec\n",
      "\n",
      "Epoch 27 Batch 0 Loss 0.0578\n",
      "Epoch 27 Loss 0.0723\n",
      "Time taken for 1 epoch 0.9478116035461426 sec\n",
      "\n",
      "Epoch 28 Batch 0 Loss 0.0640\n",
      "Epoch 28 Loss 0.0714\n",
      "Time taken for 1 epoch 0.9849586486816406 sec\n",
      "\n",
      "Epoch 29 Batch 0 Loss 0.0655\n",
      "Epoch 29 Loss 0.0645\n",
      "Time taken for 1 epoch 0.9451174736022949 sec\n",
      "\n",
      "Epoch 30 Batch 0 Loss 0.0466\n",
      "Epoch 30 Loss 0.0748\n",
      "Time taken for 1 epoch 0.985426664352417 sec\n",
      "\n",
      "Epoch 31 Batch 0 Loss 0.0481\n",
      "Epoch 31 Loss 0.0859\n",
      "Time taken for 1 epoch 0.9434769153594971 sec\n",
      "\n",
      "Epoch 32 Batch 0 Loss 0.0650\n",
      "Epoch 32 Loss 0.0775\n",
      "Time taken for 1 epoch 0.9987561702728271 sec\n",
      "\n",
      "Epoch 33 Batch 0 Loss 0.0532\n",
      "Epoch 33 Loss 0.0630\n",
      "Time taken for 1 epoch 0.9563300609588623 sec\n",
      "\n",
      "Epoch 34 Batch 0 Loss 0.0441\n",
      "Epoch 34 Loss 0.0554\n",
      "Time taken for 1 epoch 0.9682192802429199 sec\n",
      "\n",
      "Epoch 35 Batch 0 Loss 0.0380\n",
      "Epoch 35 Loss 0.0480\n",
      "Time taken for 1 epoch 0.9340736865997314 sec\n",
      "\n",
      "Epoch 36 Batch 0 Loss 0.0612\n",
      "Epoch 36 Loss 0.0553\n",
      "Time taken for 1 epoch 0.9463810920715332 sec\n",
      "\n",
      "Epoch 37 Batch 0 Loss 0.0417\n",
      "Epoch 37 Loss 0.0433\n",
      "Time taken for 1 epoch 0.9355785846710205 sec\n",
      "\n",
      "Epoch 38 Batch 0 Loss 0.0291\n",
      "Epoch 38 Loss 0.0388\n",
      "Time taken for 1 epoch 0.9536445140838623 sec\n",
      "\n",
      "Epoch 39 Batch 0 Loss 0.0407\n",
      "Epoch 39 Loss 0.0353\n",
      "Time taken for 1 epoch 0.9459109306335449 sec\n",
      "\n",
      "Epoch 40 Batch 0 Loss 0.0259\n",
      "Epoch 40 Loss 0.0331\n",
      "Time taken for 1 epoch 0.9661719799041748 sec\n",
      "\n"
     ]
    }
   ],
   "source": [
    "EPOCHS = 40\n",
    "\n",
    "for epoch in range(EPOCHS):\n",
    "  start = time.time()\n",
    "  enc_hidden = encoder.initialize_hidden_state()\n",
    "  total_loss = 0\n",
    "  for (batch, (inp, targ)) in enumerate(dataset.take(steps_per_epoch)):\n",
    "    batch_loss = train_step(inp, targ, enc_hidden)\n",
    "    total_loss += batch_loss\n",
    "    if batch % 100 == 0:\n",
    "        print('Epoch {} Batch {} Loss {:.4f}'.format(epoch + 1,\n",
    "                                                     batch,\n",
    "                                                     batch_loss.numpy()))\n",
    "  if (epoch + 1) % 2 == 0:\n",
    "    checkpoint.save(file_prefix = checkpoint_prefix)\n",
    "\n",
    "  print('Epoch {} Loss {:.4f}'.format(epoch + 1,\n",
    "                                      total_loss / steps_per_epoch))\n",
    "  print('Time taken for 1 epoch {} sec\\n'.format(time.time() - start))"
   ]
  },
  {
   "cell_type": "code",
   "execution_count": 31,
   "id": "b7ff8c10-02b7-4dca-b389-c75c0decfa28",
   "metadata": {},
   "outputs": [],
   "source": [
    "def evaluate(sentence):\n",
    "    attention_plot = np.zeros((max_length_targ, max_length_inp))\n",
    "    sentence = preprocess_sentence(sentence)\n",
    "    # inputs = [print(i) for i in sentence]\n",
    "    inputs = [inp_lang.word2idx[i] for i in sentence]\n",
    "    inputs = tf.keras.preprocessing.sequence.pad_sequences([inputs],\n",
    "                                                           maxlen=max_length_inp,\n",
    "                                                           padding='post')\n",
    "    inputs = tf.convert_to_tensor(inputs)\n",
    "    result = ''\n",
    "    hidden = [tf.zeros((1, units))]\n",
    "    enc_out, enc_hidden = encoder(inputs, hidden)\n",
    "    dec_hidden = enc_hidden\n",
    "    dec_input = tf.expand_dims([targ_lang.word2idx['@']], 0)\n",
    "    for t in range(max_length_targ):\n",
    "        predictions, dec_hidden, attention_weights = decoder(dec_input,\n",
    "                                                             dec_hidden,\n",
    "                                                             enc_out)\n",
    "        predicted_id = tf.argmax(predictions[0]).numpy()\n",
    "        result += targ_lang.idx2word[predicted_id] + ' '\n",
    "        if targ_lang.idx2word[predicted_id] == '#':\n",
    "            return result, sentence\n",
    "        dec_input = tf.expand_dims([predicted_id], 0)\n",
    "    return result, sentence"
   ]
  },
  {
   "cell_type": "code",
   "execution_count": 55,
   "id": "8d6b52db-294b-4e78-9fcd-a751872af30d",
   "metadata": {},
   "outputs": [],
   "source": [
    "def transliterate(sentence):\n",
    "    result, sentence = evaluate(sentence)\n",
    "    # print('Input: %s' % (sentence))\n",
    "    # print('transliteration: {}'.format(''.join(result.split(' '))))\n",
    "    # print(format(''.join(result.split(' '))))\n",
    "    return format(''.join(result.split(' ')))"
   ]
  },
  {
   "cell_type": "code",
   "execution_count": 44,
   "id": "a65e2ecc-2160-427f-8216-97017bc47951",
   "metadata": {},
   "outputs": [
    {
     "data": {
      "text/plain": [
       "<tensorflow.python.training.tracking.util.CheckpointLoadStatus at 0x7f67545beda0>"
      ]
     },
     "execution_count": 44,
     "metadata": {},
     "output_type": "execute_result"
    }
   ],
   "source": [
    "# restoring the latest checkpoint in checkpoint_dir\n",
    "checkpoint.restore(tf.train.latest_checkpoint(checkpoint_dir))"
   ]
  },
  {
   "cell_type": "code",
   "execution_count": 56,
   "id": "dd47deb8-fb1e-4f5b-8478-acd32de01130",
   "metadata": {},
   "outputs": [
    {
     "data": {
      "text/plain": [
       "'रोहित#'"
      ]
     },
     "execution_count": 56,
     "metadata": {},
     "output_type": "execute_result"
    }
   ],
   "source": [
    "transliterate('rohit')"
   ]
  },
  {
   "cell_type": "code",
   "execution_count": 72,
   "id": "af438f8d-c038-413d-b548-f112926fbec3",
   "metadata": {},
   "outputs": [
    {
     "data": {
      "text/plain": [
       "'कया#'"
      ]
     },
     "execution_count": 72,
     "metadata": {},
     "output_type": "execute_result"
    }
   ],
   "source": [
    "transliterate('Kya')"
   ]
  },
  {
   "cell_type": "code",
   "execution_count": 73,
   "id": "af5106b3-236c-4558-9cf9-1adbcf31fcbe",
   "metadata": {},
   "outputs": [
    {
     "data": {
      "text/plain": [
       "'डोकटर#'"
      ]
     },
     "execution_count": 73,
     "metadata": {},
     "output_type": "execute_result"
    }
   ],
   "source": [
    "transliterate('Doctor')"
   ]
  },
  {
   "cell_type": "code",
   "execution_count": 74,
   "id": "87e86d79-2264-4d07-bbc5-6e9a63d45ca9",
   "metadata": {},
   "outputs": [],
   "source": [
    "class Export(tf.Module):\n",
    "  def __init__(self, model):\n",
    "    self.model = model\n",
    "\n",
    "  @tf.function(input_signature=[tf.TensorSpec(dtype=tf.string, shape=[None])])\n",
    "  def translate(self, inputs):\n",
    "    return self.model.translate(inputs)\n"
   ]
  },
  {
   "cell_type": "code",
   "execution_count": 75,
   "id": "83e53759-cfad-4efe-8f4f-3e03a526106e",
   "metadata": {},
   "outputs": [],
   "source": [
    "def compare_similarity(word1, word2):\n",
    "    count = 0\n",
    "    \n",
    "    # Convert the words to character n-grams\n",
    "    word1_ngrams = [word1[i:i+3] for i in range(len(word1)-2)]\n",
    "    word2_ngrams = [word2[i:i+3] for i in range(len(word2)-2)]\n",
    "\n",
    "    # Calculate the number of common n-grams\n",
    "    common_ngrams = len(set(word1_ngrams) & set(word2_ngrams))\n",
    "    if (len(word1_ngrams) + len(word2_ngrams)) > 0:\n",
    "    # Calculate the similarity score\n",
    "        similarity_score = common_ngrams / (len(word1_ngrams) + len(word2_ngrams))\n",
    "    \n",
    "        if similarity_score > 0:\n",
    "\n",
    "            count = 1\n",
    "\n",
    "        return similarity_score, count\n",
    "    else:\n",
    "        \n",
    "        return 0,0"
   ]
  },
  {
   "cell_type": "code",
   "execution_count": 76,
   "id": "ec547fe4-e573-4865-880f-38cc7c6c26cd",
   "metadata": {},
   "outputs": [
    {
     "name": "stdout",
     "output_type": "stream",
     "text": [
      "Similarity average score : 0.28190008530825555\n",
      "Accuracy : 0.49325192802056556\n"
     ]
    }
   ],
   "source": [
    "transliterationCorpus = ET.parse(\"NEWS2018_M-EnHi_trn.xml\").getroot()\n",
    "en = []\n",
    "hd = []\n",
    "\n",
    "acc = 0\n",
    "\n",
    "similarity_score = 0\n",
    "\n",
    "similarity_total =0\n",
    "\n",
    "total_count = 0\n",
    "\n",
    "prev_similarity = 0\n",
    "\n",
    "max_sim = 0\n",
    "\n",
    "for line in transliterationCorpus:\n",
    "    wordlist1 = line[0].text \n",
    "    wordlist2 = line[1].text \n",
    "    if len(wordlist1) != len(wordlist2):\n",
    "        continue\n",
    "\n",
    "    en_1 = preprocess_sentence(wordlist1)\n",
    "    # en_1 = '@' + en_1 + '#'\n",
    "    en.append(en_1)\n",
    "\n",
    "    # for word in wordlist2:\n",
    "    hd_1 = hindi_preprocess_sentence(wordlist2)[0]\n",
    "    # hd_1 = '@' + hd_1 + '#'\n",
    "    hd.append(hd_1)\n",
    "\n",
    "for i in range(len(en)):\n",
    "    \n",
    "    convt = transliterate(en[i])\n",
    "    \n",
    "    similarity_score, count = compare_similarity(hd[i], convt)\n",
    "    \n",
    "    if similarity_score > prev_similarity:\n",
    "        \n",
    "        max_sim = similarity_score\n",
    "        \n",
    "    prev_similarity = similarity_score\n",
    "    \n",
    "    similarity_total = similarity_score + similarity_total\n",
    "    \n",
    "    total_count = total_count + count\n",
    "    \n",
    "similarity_avg = similarity_total/total_count\n",
    "    \n",
    "acc = total_count/len(en)\n",
    "\n",
    "print('Similarity average score :', similarity_avg)\n",
    "\n",
    "print('Accuracy :', acc)\n",
    "    \n"
   ]
  },
  {
   "cell_type": "code",
   "execution_count": null,
   "id": "b7412c55-1063-4cbd-b64b-5213c9edb9ae",
   "metadata": {},
   "outputs": [],
   "source": []
  },
  {
   "cell_type": "code",
   "execution_count": null,
   "id": "65957c06-caf8-4dd5-a554-07007fb2da8b",
   "metadata": {},
   "outputs": [],
   "source": []
  },
  {
   "cell_type": "code",
   "execution_count": null,
   "id": "e0315f25-3ae1-4eda-a1fc-2e9b52b6cae7",
   "metadata": {},
   "outputs": [],
   "source": []
  },
  {
   "cell_type": "code",
   "execution_count": null,
   "id": "8678daa1-62dc-4ead-b4a6-2bb1cfa4615a",
   "metadata": {},
   "outputs": [],
   "source": []
  },
  {
   "cell_type": "code",
   "execution_count": null,
   "id": "7581a2d8-d121-4889-aa59-d11543e91daa",
   "metadata": {},
   "outputs": [],
   "source": []
  },
  {
   "cell_type": "code",
   "execution_count": null,
   "id": "b6bed931-7077-48d0-b5d5-35cf4703de2a",
   "metadata": {},
   "outputs": [],
   "source": []
  }
 ],
 "metadata": {
  "kernelspec": {
   "display_name": "Python 3 (ipykernel)",
   "language": "python",
   "name": "python3"
  },
  "language_info": {
   "codemirror_mode": {
    "name": "ipython",
    "version": 3
   },
   "file_extension": ".py",
   "mimetype": "text/x-python",
   "name": "python",
   "nbconvert_exporter": "python",
   "pygments_lexer": "ipython3",
   "version": "3.10.5"
  }
 },
 "nbformat": 4,
 "nbformat_minor": 5
}
